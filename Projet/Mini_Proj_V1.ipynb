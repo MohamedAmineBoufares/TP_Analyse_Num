{
 "cells": [
  {
   "cell_type": "markdown",
   "metadata": {},
   "source": [
    "<p> Le Mini projet consiste à modeliser quelques méthode d'intégration numérique avec Python.<br/> J'ai choisit comme méthode : \n",
    "<ol>\n",
    "    <li>Méthode des Réctangles Gauche</li>\n",
    "    <li>Méthode des Trapézes</li>\n",
    "    <li>Méthode de Simpson</li>\n",
    "    <li>Méthode des Pointes Milieux</li>\n",
    "</ol>\n",
    "Chaque méthode va étre devlopé dans une classe. Chaque classe va avoir 2 fonction, une qui va calculer l'intégrale avec chaque formule de chaque méthode et autre qui va afficher le graphe de la fonction choisit ainsi les subdivison adéquat pour chaque méthode et l'erreur de chaque méthode.\n",
    "Tout celà sera fait à travers une interface graphique interactive qui vous permet de choisir les fonction depuis une liste prédifinis, les bornes d'intégrale et le nombre de subdivison désirer. Aprés que vous avez fixer vos choix, vous allez appuier sur le button <i>\"Affciher\"</i>.\n",
    "<b><br/>Comme le montre la figure suivante </b>\n",
    "</p>\n",
    "<img src=\"Pics/demo.gif\" alt=\"D2mo du Mini Projet\"/>"
   ]
  },
  {
   "cell_type": "markdown",
   "metadata": {},
   "source": [
    "#### Pour Installer la bibliothéque \"ipywidgets\" enlever le \"#\" et éxectuer le bloque"
   ]
  },
  {
   "cell_type": "code",
   "execution_count": 76,
   "metadata": {},
   "outputs": [],
   "source": [
    "#conda install -c conda-forge ipympl"
   ]
  },
  {
   "cell_type": "markdown",
   "metadata": {},
   "source": [
    "#### Déclaration des Bibliothéques"
   ]
  },
  {
   "cell_type": "code",
   "execution_count": 77,
   "metadata": {},
   "outputs": [],
   "source": [
    "%matplotlib widget\n",
    "import math\n",
    "import numpy as np\n",
    "from numpy import *\n",
    "import matplotlib.pyplot as plt\n",
    "import ipywidgets as widgets"
   ]
  },
  {
   "cell_type": "code",
   "execution_count": 78,
   "metadata": {},
   "outputs": [],
   "source": [
    "f=lambda x:1/(1+x**2)"
   ]
  },
  {
   "cell_type": "markdown",
   "metadata": {},
   "source": [
    "### Méthode des Rectangles Gauche"
   ]
  },
  {
   "cell_type": "markdown",
   "metadata": {},
   "source": [
    "On approche l’aire : $$\\int_a^b f(t) \\,dt$$ \n",
    "Par une somme d’aire de rectangles comme le montre la figure ci-contre i.e. On approche f(t) sur [tk, tk+1] par f(tk).\n",
    "<img src=\"Pics/rectG.png\" alt=\"Méthode des Rectangles Gauche\" width=\"400\"/>\n",
    "L’aire des rectangles obtenue est :\n",
    "$$V.A = \\frac {b-a}n \\sum\\limits _{k=0}^{n-1} f(t_k) $$\n",
    "On admet que si f est de classe C1 alors l’erreur commise par la méthode des rectangles est détérminé par l’inégalité suivante :\n",
    "$$\\left\\lvert \\int_a^b f(t) \\,dt - V.A \\right\\rvert \\le \\frac {b-a}n Max\\left\\lvert f' \\right\\rvert $$"
   ]
  },
  {
   "cell_type": "code",
   "execution_count": 79,
   "metadata": {},
   "outputs": [],
   "source": [
    "class RectangleG ( object ) :\n",
    "    def __init__ (self , a , b , n , f ) :\n",
    "        self.a = a\n",
    "        self.b = b\n",
    "        self.x = np.linspace( a , b , n+1 )\n",
    "        self.f = f\n",
    "        self.n = n\n",
    "    def integrate ( self , f ) :\n",
    "        x= self.x\n",
    "        y= f( x )\n",
    "        h = float( x[1] - x[0] )\n",
    "        s = sum( y[ 0 : -1 ] )\n",
    "        return h * s\n",
    "    def Graph ( self , f , resolution =1001 ) :\n",
    "        xl = self.x\n",
    "        yl = f(xl)\n",
    "        xlist_fine =np.linspace( self.a , self.b , resolution )\n",
    "        for i in range ( self.n ) :\n",
    "            x_rect = [xl[ i ] , xl[ i ] , xl[ i + 1 ] , xl[i+1] , xl[ i ] ] # abscisses des sommets\n",
    "            y_rect = [0 , yl[ i ] , yl[ i ] , 0 , 0 ] # ordonnees des sommets\n",
    "            plt.plot ( x_rect , y_rect , 'r' )\n",
    "        yflist_fine = f ( xlist_fine )\n",
    "        plt.plot ( xlist_fine , yflist_fine )\n",
    "        plt.plot(xl, yl,\"bo\")\n",
    "        plt.xlabel ( 'x' )\n",
    "        plt.ylabel ( ' f ( x ) ' )\n",
    "        plt.title('Methode des Rectangles Gauches, N = {}'.format(self.n))\n",
    "        plt.text( 0.5*( self.a+ self.b ) , f(self.b ) , 'I_{} ={:0.8f}'.format(self.n,self.integrate( f ) ) , fontsize =15 )"
   ]
  },
  {
   "cell_type": "markdown",
   "metadata": {},
   "source": [
    "### Méthode des Trapézes"
   ]
  },
  {
   "cell_type": "markdown",
   "metadata": {},
   "source": [
    "On approche l’aire : $$\\int_a^b f(t) \\,dt$$ \n",
    "Comme le montre la figure ci-dessous i.e. on approche f sur [tk, tk+1] par lafonction affine qui coïncide avec f aux points tk et tk+1.\n",
    "<img src=\"Pics/trap.png\" alt=\"Méthode des Trapézes\" width=\"400\"/>\n",
    "L’aire des trapèzes obtenue est :\n",
    "$$V.A = \\frac {b-a}n \\left(\\frac {f(a)+f(b)}2 + \\sum\\limits _{k=0}^{n-1} f(t_k) \\right) $$\n",
    "On admet que si f est de classe C1 alors l’erreur commise par la méthode des rectangles est détérminé par l’inégalité suivante :\n",
    "$$\\left\\lvert \\int_a^b f(t) \\,dt - V.A \\right\\rvert \\le \\frac {(b-a)³}{12n²} Max\\left\\lvert f\" \\right\\rvert $$"
   ]
  },
  {
   "cell_type": "code",
   "execution_count": 80,
   "metadata": {},
   "outputs": [],
   "source": [
    "class Trapezoidal(object):\n",
    "    def __init__(self, a, b, n, f):\n",
    "        self.a = a\n",
    "        self.b = b\n",
    "        self.x = np.linspace(a, b, n+1)\n",
    "        self.f = f\n",
    "        self.n = n\n",
    "    def integrate(self,f):\n",
    "        x=self.x\n",
    "        y=f(x)\n",
    "        h = float(x[1] - x[0])\n",
    "        s = y[0] + y[-1] + 2.0*sum(y[1:-1])\n",
    "        return h * s / 2.0\n",
    "    def Graph(self,f,resolution=1001):\n",
    "        xl = self.x\n",
    "        yl = f(xl)\n",
    "        xlist_fine=np.linspace(self.a, self.b, resolution)\n",
    "        for i in range(self.n):\n",
    "            x_rect = [xl[i], xl[i], xl[i+1], xl[i+1], xl[i]] # abscisses des sommets\n",
    "            y_rect = [0   , yl[i], yl[i+1]  , 0     , 0   ] # ordonnees des sommets\n",
    "            plt.plot(x_rect, y_rect,\"r\")\n",
    "        yflist_fine = f(xlist_fine)\n",
    "        plt.plot(xlist_fine, yflist_fine)#plot de f(x)\n",
    "        plt.plot(xl, yl,\"cs\")#point support\n",
    "        plt.ylabel ( ' f ( x ) ' )\n",
    "        plt.title('Methode des Trapézes, N = {}'.format(self.n))\n",
    "        plt.text( 0.5*( self.a+ self.b ) , f(self.b ) , 'I_{} ={:0.8f}'.format(self.n,self.integrate( f ) ) , fontsize =15 )"
   ]
  },
  {
   "cell_type": "markdown",
   "metadata": {},
   "source": [
    "### Méthode de Simpson"
   ]
  },
  {
   "cell_type": "markdown",
   "metadata": {},
   "source": [
    "On approche l’aire : $$\\int_a^b f(t) \\,dt$$ \n",
    "Comme le montre la figure ci-dessous i.e. La méthode consiste à approcher f sur [tk, tk+1] par la fonction polynomiale de degré 2.\n",
    "<img src=\"Pics/simp.png\" alt=\"Méthode de Simpson\" width=\"400\"/>\n",
    "L’aire obtenue est :\n",
    "$$V.A = \\frac {b-a}{6n} \\sum\\limits _{k=0}^{n-1} f(t_k)  \\left(f(t_k)\\frac {f(t_k)+f(t_{k+1})}2 +f(t_{k+1}) \\right) $$\n",
    "On admet que si f est de classe C4 alors l’erreur commise par la méthode de Simpson est donné par l’inégalité suivante :\n",
    "$$\\left\\lvert \\int_a^b f(t) \\,dt - V.A \\right\\rvert \\le \\frac {(b-a)⁵}{2880n⁴} Max\\left\\lvert f⁴ \\right\\rvert $$"
   ]
  },
  {
   "cell_type": "code",
   "execution_count": 81,
   "metadata": {},
   "outputs": [],
   "source": [
    "class Simps ( object ) :\n",
    "    def __init__ (self , a , b , n , f ) :\n",
    "        self.a = a\n",
    "        self.b = b\n",
    "        self.x = np.linspace( a , b , n+1 )\n",
    "        self.f = f\n",
    "        self.n = n\n",
    "    def integrate ( self , f ) :\n",
    "        \n",
    "        if self.n % 2 == 1:\n",
    "            raise ValueError(\"N doit étre paire ! \")\n",
    "        dx = (self.b-self.a)/self.n\n",
    "        x = np.linspace(self.a,self.b,self.n+1)\n",
    "        y = f(x)\n",
    "        S = dx/3 * np.sum(y[0:-1:2] + 4*y[1::2] + y[2::2])\n",
    "        return S\n",
    "        \n",
    "    def Graph ( self , f , resolution =1001 ) :\n",
    "        xl = self.x\n",
    "        yl = f(xl)\n",
    "        xlist_fine =np.linspace( self.a , self.b , resolution )\n",
    "        for i in range ( self.n ) :\n",
    "            x_rect = [xl[ i ] , xl[ i ]] # abscisses des sommets\n",
    "            y_rect = [0 , yl[ i ]] # ordonnees des sommets\n",
    "            plt.plot ( x_rect , y_rect , 'r' )\n",
    "        yflist_fine = f ( xlist_fine )\n",
    "        plt.plot ( xlist_fine , yflist_fine )\n",
    "        plt.plot(xl, yl,\"bo\")\n",
    "        plt.xlabel ( 'x' )\n",
    "        plt.ylabel ( ' f ( x ) ' )\n",
    "        plt.title('Methode de Simpson, N = {}'.format(self.n))\n",
    "        plt.text( 0.5*( self.a+ self.b ) , f(self.b ) , 'I_{} ={:0.8f}'.format(self.n,self.integrate( f ) ) , fontsize =15 )"
   ]
  },
  {
   "cell_type": "markdown",
   "metadata": {},
   "source": [
    "### Méthode des Points Milieux"
   ]
  },
  {
   "cell_type": "markdown",
   "metadata": {},
   "source": [
    "On approche l’aire : \n",
    "$$\\int_a^b f(t) \\,dt$$ \n",
    "Comme le montre la figure ci-dessous i.e. La méthode consiste à approcher f sur [tk, tk+1].\n",
    "<img src=\"Pics/milieu.png\" alt=\"Méthode des Points Milieux\" width=\"400\"/>\n",
    "L’aire des rectangles obtenue est :\n",
    "$$V.A = \\frac{b-a}n \\sum\\limits _{k=0}^{n-1} f\\left(\\frac{t_k+t_{k+1}}2\\right) $$\n",
    "On admet que si f est de classe C4 alors l’erreur commise par la méthode de Simpson est donné par l’inégalité suivante :\n",
    "$$\\left\\lvert \\int_a^b f(t) \\,dt - V.A \\right\\rvert \\le \\frac {(b-a)³}{24n²} Max\\left\\lvert f\" \\right\\rvert $$"
   ]
  },
  {
   "cell_type": "code",
   "execution_count": 82,
   "metadata": {},
   "outputs": [],
   "source": [
    "class Pt_milieu(object):\n",
    "    def __init__(self, a, b, n, f):\n",
    "        self.a = a\n",
    "        self.b = b\n",
    "        self.x = np.linspace(a, b, n+1)\n",
    "        self.f = f\n",
    "        self.n = n\n",
    "    def integrate(self,f):\n",
    "        h = float(self.b-self.a)/self.n\n",
    "        result = 0\n",
    "        for i in range(self.n):\n",
    "            result += f((self.a + h/2.0) + i*h)\n",
    "        result *= h\n",
    "        return result\n",
    "    def Graph ( self , f , resolution =1001 ) :\n",
    "        xl = self.x\n",
    "        yl = f(xl)\n",
    "        xlist_fine =np.linspace( self.a , self.b , resolution )\n",
    "        for i in range ( self.n ) :\n",
    "            mi = (xl[i]+xl[i+1])/2\n",
    "            x_rect = [xl[ i ] , xl[ i ],xl[ i+1 ],xl[ i+1 ],xl[ i ]] # abscisses des sommets\n",
    "            y_rect = [0 , f(mi),f(mi),0,0] # ordonnees des sommets\n",
    "            plt.plot(x_rect,y_rect,'r')\n",
    "            plt.plot ( mi , f(mi) , 'bo' )\n",
    "        yflist_fine = f ( xlist_fine )\n",
    "        plt.plot ( xlist_fine , yflist_fine )\n",
    "        plt.xlabel ( 'x' )\n",
    "        plt.ylabel ( ' f ( x ) ' )\n",
    "        plt.title('Methode de Point Milieu, N = {}'.format(self.n))\n",
    "        plt.text( 0.5*( self.a+ self.b ) , f(self.b ) , 'I_{} ={:0.8f}'.format(self.n,self.integrate( f ) ) , fontsize =15 )"
   ]
  },
  {
   "cell_type": "markdown",
   "metadata": {},
   "source": [
    "### Simulation"
   ]
  },
  {
   "cell_type": "code",
   "execution_count": 83,
   "metadata": {},
   "outputs": [],
   "source": [
    "def simule(n,f,a,b):\n",
    "    \n",
    "    R=RectangleG(a,b,n,f)\n",
    "    T=Trapezoidal(a,b,n,f)\n",
    "    plt.subplot(221)\n",
    "    R.Graph(f)  \n",
    "    plt.subplot(222)    \n",
    "    T.Graph(f)\n",
    "    M=Pt_milieu(a,b,n,f)\n",
    "    plt.subplot(223)\n",
    "    M.Graph(f)\n",
    "    \n",
    "    if n%2 == 0: #Il faut que N soit paire !\n",
    "        S=Simps(a,b,n,f) \n",
    "        plt.subplot(224)\n",
    "        S.Graph(f)\n",
    "    else:\n",
    "        plt.subplot(224)\n",
    "        plt.text( 0.5*(a+b ) ,0, \" Simpson est indesponible car N={} est impaire\".format(n), fontsize =15,color=\"red\" )\n",
    "        \n",
    "    plt.show()"
   ]
  },
  {
   "cell_type": "markdown",
   "metadata": {},
   "source": [
    "### Les Figures "
   ]
  },
  {
   "cell_type": "code",
   "execution_count": 84,
   "metadata": {},
   "outputs": [],
   "source": [
    "output = widgets.Output()\n",
    "with output:\n",
    "    fig= plt.figure(figsize=(15,10))\n",
    "fig.canvas.toolbar_position = 'bottom'"
   ]
  },
  {
   "cell_type": "code",
   "execution_count": 85,
   "metadata": {},
   "outputs": [],
   "source": [
    "int_slider = widgets.IntSlider(value=2, min=1, max=50, step=1, description='Choisir N')\n",
    "select = widgets.Dropdown(options={'1/(1+x**2)':lambda x:1/(1+x**2),\n",
    "                                   'x**2-x+5':lambda x:x**2-x+5,\n",
    "                                   'x**2':lambda x:x**2,\n",
    "                                   'x**3':lambda x:x**3,\n",
    "                                   'tang(x)':lambda x:tan(x),\n",
    "                                   'arctang(x)':lambda x:arctan(x),\n",
    "                                    'sin(x)':lambda x: sin(x),\n",
    "                                    'cos(x)':lambda x:cos(x)},description='Choisir une fonction')      \n",
    "text_a = widgets.IntText(value=-1,description='Valeur de a', continuous_update=False)\n",
    "text_b = widgets.IntText(value=1,description='Valeur de b', continuous_update=False)\n",
    "button = widgets.Button(description=\"Afficher\")"
   ]
  },
  {
   "cell_type": "code",
   "execution_count": 86,
   "metadata": {},
   "outputs": [],
   "source": [
    "def on_button_clicked(b):\n",
    "    with output:\n",
    "        fig.clear()\n",
    "        simule(int_slider.value,select.value,text_a.value,text_b.value) "
   ]
  },
  {
   "cell_type": "markdown",
   "metadata": {},
   "source": [
    "<h2>Veuillez choisir:<h2/>\n",
    "<ul>\n",
    "<li>Une valeur de N</li>\n",
    "<li>Une Fonction</li>\n",
    "<li>Une valeur de a et b</li>\n",
    "<li>Appuier sur la button \"Afficher\"</li>\n",
    "</ul>\n",
    "<h2>Lors de changement d'un des paramaétres veuillez re-appuier sur le même button \" Afficher \"<h2/>"
   ]
  },
  {
   "cell_type": "code",
   "execution_count": 87,
   "metadata": {},
   "outputs": [
    {
     "data": {
      "application/vnd.jupyter.widget-view+json": {
       "model_id": "bc535c2aac304bbba1aaa9b9bcd9480c",
       "version_major": 2,
       "version_minor": 0
      },
      "text/plain": [
       "HBox(children=(VBox(children=(IntSlider(value=2, description='Choisir N', max=50, min=1), Dropdown(description…"
      ]
     },
     "metadata": {},
     "output_type": "display_data"
    }
   ],
   "source": [
    "controls = widgets.VBox([int_slider,select,text_a,text_b,button])\n",
    "button.on_click(on_button_clicked)\n",
    "widgets.HBox([controls, output])"
   ]
  },
  {
   "cell_type": "code",
   "execution_count": null,
   "metadata": {},
   "outputs": [],
   "source": []
  }
 ],
 "metadata": {
  "kernelspec": {
   "display_name": "Python 3",
   "language": "python",
   "name": "python3"
  },
  "language_info": {
   "codemirror_mode": {
    "name": "ipython",
    "version": 3
   },
   "file_extension": ".py",
   "mimetype": "text/x-python",
   "name": "python",
   "nbconvert_exporter": "python",
   "pygments_lexer": "ipython3",
   "version": "3.8.3"
  }
 },
 "nbformat": 4,
 "nbformat_minor": 4
}
