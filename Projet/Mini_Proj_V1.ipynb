{
 "cells": [
  {
   "cell_type": "markdown",
   "metadata": {},
   "source": [
    "<p> Le Mini projet consiste à modeliser quelques méthode d'intégration numérique avec Python.<br/> J'ai choisit comme méthode : \n",
    "<ol>\n",
    "    <li>Méthode des Réctangles Gauche</li>\n",
    "    <li>Méthode des Trapézes</li>\n",
    "    <li>Méthode de Simpson</li>\n",
    "    <li>Méthode des Pointes Milieux</li>\n",
    "</ol>\n",
    "Chaque méthode va étre devlopé dans une classe. Chaque classe va avoir 2 fonction, une qui va calculer l'intégrale avec chaque formule de chaque méthode et autre qui va afficher le graphe de la fonction choisit ainsi les subdivison adéquat pour chaque méthode et l'erreur de chaque méthode.\n",
    "Tout celà sera fait à travers une interface graphique interactive qui vous permet de choisir les fonction depuis une liste prédifinis, les bornes d'intégrale et le nombre de subdivison désirer. Aprés que vous avez fixer vos choix, vous allez appuier sur le button <i>\"Affciher\"</i>.\n",
    "<b><br/>Comme le montre la figure suivante </b>\n",
    "</p>\n",
    "<img src=\"Pics/demo.gif\" alt=\"D2mo du Mini Projet\"/>"
   ]
  },
  {
   "cell_type": "markdown",
   "metadata": {},
   "source": [
    "#### Pour Installer la bibliothéque \"ipywidgets\" enlever le \"#\" et éxectuer le bloque"
   ]
  },
  {
   "cell_type": "code",
   "execution_count": 199,
   "metadata": {},
   "outputs": [],
   "source": [
    "#conda install -c conda-forge ipympl"
   ]
  },
  {
   "cell_type": "markdown",
   "metadata": {},
   "source": [
    "#### Déclaration des Bibliothéques"
   ]
  },
  {
   "cell_type": "code",
   "execution_count": 200,
   "metadata": {},
   "outputs": [],
   "source": [
    "%matplotlib widget\n",
    "import math\n",
    "import numpy as np\n",
    "from numpy import *\n",
    "import matplotlib.pyplot as plt\n",
    "import ipywidgets as widgets"
   ]
  },
  {
   "cell_type": "code",
   "execution_count": 201,
   "metadata": {},
   "outputs": [],
   "source": [
    "f=lambda x:1/(1+x**2)"
   ]
  },
  {
   "cell_type": "markdown",
   "metadata": {},
   "source": [
    "### Méthode des Rectangles Gauche"
   ]
  },
  {
   "cell_type": "markdown",
   "metadata": {},
   "source": [
    "On approche l’aire : $$\\int_a^b f(t) \\,dt$$ \n",
    "Par une somme d’aire de rectangles comme le montre la figure ci-contre i.e. On approche f(t) sur [tk, tk+1] par f(tk).\n",
    "<img src=\"Pics/rectG.png\" alt=\"Méthode des Rectangles Gauche\" width=\"400\"/>\n",
    "L’aire des rectangles obtenue est :\n",
    "$$V.A = \\frac {b-a}n \\sum\\limits _{k=0}^{n-1} f(t_k) $$\n",
    "On admet que si f est de classe C1 alors l’erreur commise par la méthode des rectangles est détérminé par l’inégalité suivante :\n",
    "$$\\left\\lvert \\int_a^b f(t) \\,dt - V.A \\right\\rvert \\le \\frac {b-a}n Max\\left\\lvert f' \\right\\rvert $$"
   ]
  },
  {
   "cell_type": "code",
   "execution_count": 202,
   "metadata": {},
   "outputs": [],
   "source": [
    "class RectangleG ( object ) :\n",
    "    def __init__ (self , a , b , n , f ) :\n",
    "        self.a = a\n",
    "        self.b = b\n",
    "        self.x = np.linspace( a , b , n+1 )\n",
    "        self.f = f\n",
    "        self.n = n\n",
    "    def integrate ( self , f ) :\n",
    "        x= self.x\n",
    "        y= f( x )\n",
    "        h = float( x[1] - x[0] )\n",
    "        s = sum( y[ 0 : -1 ] )\n",
    "        return h * s\n",
    "    def Graph ( self , f , resolution =1001 ) :\n",
    "        xl = self.x\n",
    "        yl = f(xl)\n",
    "        xlist_fine =np.linspace( self.a , self.b , resolution )\n",
    "        for i in range ( self.n ) :\n",
    "            x_rect = [xl[ i ] , xl[ i ] , xl[ i + 1 ] , xl[i+1] , xl[ i ] ] # abscisses des sommets\n",
    "            y_rect = [0 , yl[ i ] , yl[ i ] , 0 , 0 ] # ordonnees des sommets\n",
    "            plt.plot ( x_rect , y_rect , 'r' )\n",
    "        yflist_fine = f ( xlist_fine )\n",
    "        plt.plot ( xlist_fine , yflist_fine )\n",
    "        plt.plot(xl, yl,\"bo\")\n",
    "        plt.xlabel ( 'x' )\n",
    "        plt.ylabel ( ' f ( x ) ' )\n",
    "        plt.title('Methode des Rectangles Gauches, N = {}'.format(self.n))\n",
    "        plt.text( 0.5*( self.a+ self.b ) , f(self.b ) , 'I_{} ={:0.8f}'.format(self.n,self.integrate( f ) ) , fontsize =15 )"
   ]
  },
  {
   "cell_type": "markdown",
   "metadata": {},
   "source": [
    "### Méthode des Trapézes"
   ]
  },
  {
   "cell_type": "markdown",
   "metadata": {},
   "source": [
    "On approche l’aire : $$\\int_a^b f(t) \\,dt$$ \n",
    "Comme le montre la figure ci-dessous i.e. on approche f sur [tk, tk+1] par lafonction affine qui coïncide avec f aux points tk et tk+1.\n",
    "<img src=\"Pics/trap.png\" alt=\"Méthode des Trapézes\" width=\"400\"/>\n",
    "L’aire des trapèzes obtenue est :\n",
    "$$V.A = \\frac {b-a}n \\left(\\frac {f(a)+f(b)}2 + \\sum\\limits _{k=0}^{n-1} f(t_k) \\right) $$\n",
    "On admet que si f est de classe C1 alors l’erreur commise par la méthode des rectangles est détérminé par l’inégalité suivante :\n",
    "$$\\left\\lvert \\int_a^b f(t) \\,dt - V.A \\right\\rvert \\le \\frac {(b-a)³}{12n²} Max\\left\\lvert f\" \\right\\rvert $$"
   ]
  },
  {
   "cell_type": "code",
   "execution_count": 203,
   "metadata": {},
   "outputs": [],
   "source": [
    "class Trapezoidal(object):\n",
    "    def __init__(self, a, b, n, f):\n",
    "        self.a = a\n",
    "        self.b = b\n",
    "        self.x = np.linspace(a, b, n+1)\n",
    "        self.f = f\n",
    "        self.n = n\n",
    "    def integrate(self,f):\n",
    "        x=self.x\n",
    "        y=f(x)\n",
    "        h = float(x[1] - x[0])\n",
    "        s = y[0] + y[-1] + 2.0*sum(y[1:-1])\n",
    "        return h * s / 2.0\n",
    "    def Graph(self,f,resolution=1001):\n",
    "        xl = self.x\n",
    "        yl = f(xl)\n",
    "        xlist_fine=np.linspace(self.a, self.b, resolution)\n",
    "        for i in range(self.n):\n",
    "            x_rect = [xl[i], xl[i], xl[i+1], xl[i+1], xl[i]] # abscisses des sommets\n",
    "            y_rect = [0   , yl[i], yl[i+1]  , 0     , 0   ] # ordonnees des sommets\n",
    "            plt.plot(x_rect, y_rect,\"r\")\n",
    "        yflist_fine = f(xlist_fine)\n",
    "        plt.plot(xlist_fine, yflist_fine)#plot de f(x)\n",
    "        plt.plot(xl, yl,\"cs\")#point support\n",
    "        plt.ylabel ( ' f ( x ) ' )\n",
    "        plt.title('Methode des Trapézes, N = {}'.format(self.n))\n",
    "        plt.text( 0.5*( self.a+ self.b ) , f(self.b ) , 'I_{} ={:0.8f}'.format(self.n,self.integrate( f ) ) , fontsize =15 )"
   ]
  },
  {
   "cell_type": "markdown",
   "metadata": {},
   "source": [
    "### Méthode de Simpson"
   ]
  },
  {
   "cell_type": "markdown",
   "metadata": {},
   "source": [
    "On approche l’aire : $$\\int_a^b f(t) \\,dt$$ \n",
    "Comme le montre la figure ci-dessous i.e. La méthode consiste à approcher f sur [tk, tk+1] par la fonction polynomiale de degré 2.\n",
    "<img src=\"Pics/simp.png\" alt=\"Méthode de Simpson\" width=\"400\"/>\n",
    "L’aire obtenue est :\n",
    "$$V.A = \\frac {b-a}{6n} \\sum\\limits _{k=0}^{n-1} f(t_k)  \\left(f(t_k)\\frac {f(t_k)+f(t_{k+1})}2 +f(t_{k+1}) \\right) $$\n",
    "On admet que si f est de classe C4 alors l’erreur commise par la méthode de Simpson est donné par l’inégalité suivante :\n",
    "$$\\left\\lvert \\int_a^b f(t) \\,dt - V.A \\right\\rvert \\le \\frac {(b-a)⁵}{2880n⁴} Max\\left\\lvert f⁴ \\right\\rvert $$"
   ]
  },
  {
   "cell_type": "code",
   "execution_count": 204,
   "metadata": {},
   "outputs": [],
   "source": [
    "class Simps(object):\n",
    "    def __init__(self, a, b, n, f): #initialiser les paramètres du classe\n",
    "        self.a = a\n",
    "        self.b = b\n",
    "        self.x = np.linspace(a, b, n+1)#les pts supports\n",
    "        self.f = f\n",
    "        self.n = n #nombre de subdivision\n",
    "\n",
    "    def integrate(self,f):#calculer la somme ((b-a)/6*n)*[f(a)+2*sum(xi)+4*sum(mi)+f(b)]\n",
    "        x=self.x #les points supports xi #x(0)=a-->x(n)=b\n",
    "        y=f(x) #yi variable local y(o)=f(xo)-->y(n)\n",
    "        h = float(x[1] - x[0])#pas h=(b-a)/2*n\n",
    "        n = len(x) - 1#nombre subdivision\n",
    "        if n % 2 == 1:#si le reste de la division =1 impaire\n",
    "            n -= 1\n",
    "        s = y[0] + y[n] + 4.0 * sum(y[1:-1:2]) + 2.0 * sum(y[2:-2:2])\n",
    "        return h * s / 3.0\n",
    "    def Graph(self,f,resolution=1001):\n",
    "        xl = self.x \n",
    "        yl = f(xl) \n",
    "        xlist_fine=np.linspace(self.a, self.b, resolution)\n",
    "        for i in range(self.n):\n",
    "            xx=np.linspace(xl[i], xl[i+1], resolution)\n",
    "            m=(xl[i]+xl[i+1])/2#pt milieu\n",
    "            aa=xl[i]#borne gauche\n",
    "            bb=xl[i+1]#borne droite\n",
    "            l0 = (xx-m)/(aa-m)*(xx-bb)/(aa-bb)\n",
    "            l1 = (xx-aa)/(m-aa)*(xx-bb)/(m-bb)\n",
    "            l2 = (xx-aa)/(bb-aa)*(xx-m)/(bb-m)\n",
    "            P = f(aa)*l0 + f(m)*l1 + f(bb)*l2#\n",
    "            plt.plot(xx,P,'r')\n",
    "            plt.plot(m,f(m),\"r\",marker=\"s\")\n",
    "        yflist_fine = f(xlist_fine)#fontion f\n",
    "        plt.plot(xlist_fine, yflist_fine,'b')\n",
    "        plt.plot(xl, yl,'bo')#point support en bleu rond\n",
    "        plt.ylabel('f(x)')\n",
    "        plt.title('Methode de Simpson, N = {}'.format(self.n))\n",
    "        plt.text( 0.5*( self.a+ self.b ) , f(self.b ) , 'I_{} ={:0.8f}'.format(self.n,self.integrate( f ) ) , fontsize =15 )"
   ]
  },
  {
   "cell_type": "markdown",
   "metadata": {},
   "source": [
    "### Méthode des Points Milieux"
   ]
  },
  {
   "cell_type": "markdown",
   "metadata": {},
   "source": [
    "On approche l’aire : \n",
    "$$\\int_a^b f(t) \\,dt$$ \n",
    "Comme le montre la figure ci-dessous i.e. La méthode consiste à approcher f sur [tk, tk+1].\n",
    "<img src=\"Pics/milieu.png\" alt=\"Méthode des Points Milieux\" width=\"400\"/>\n",
    "L’aire des rectangles obtenue est :\n",
    "$$V.A = \\frac{b-a}n \\sum\\limits _{k=0}^{n-1} f\\left(\\frac{t_k+t_{k+1}}2\\right) $$\n",
    "On admet que si f est de classe C4 alors l’erreur commise par la méthode de Simpson est donné par l’inégalité suivante :\n",
    "$$\\left\\lvert \\int_a^b f(t) \\,dt - V.A \\right\\rvert \\le \\frac {(b-a)³}{24n²} Max\\left\\lvert f\" \\right\\rvert $$"
   ]
  },
  {
   "cell_type": "code",
   "execution_count": 205,
   "metadata": {},
   "outputs": [],
   "source": [
    "class Pt_milieu(object):\n",
    "    def __init__(self, a, b, n, f):\n",
    "        self.a = a\n",
    "        self.b = b\n",
    "        self.x = np.linspace(a, b, n+1)\n",
    "        self.f = f\n",
    "        self.n = n\n",
    "    def integrate(self,f):\n",
    "        h = float(self.b-self.a)/self.n\n",
    "        result = 0\n",
    "        for i in range(self.n):\n",
    "            result += f((self.a + h/2.0) + i*h)\n",
    "        result *= h\n",
    "        return result\n",
    "    def Graph ( self , f , resolution =1001 ) :\n",
    "        xl = self.x\n",
    "        yl = f(xl)\n",
    "        xlist_fine =np.linspace( self.a , self.b , resolution )\n",
    "        for i in range ( self.n ) :\n",
    "            mi = (xl[i]+xl[i+1])/2\n",
    "            x_rect = [xl[ i ] , xl[ i ],xl[ i+1 ],xl[ i+1 ],xl[ i ]] # abscisses des sommets\n",
    "            y_rect = [0 , f(mi),f(mi),0,0] # ordonnees des sommets\n",
    "            plt.plot(x_rect,y_rect,'r')\n",
    "            plt.plot ( mi , f(mi) , 'bo' )\n",
    "        yflist_fine = f ( xlist_fine )\n",
    "        plt.plot ( xlist_fine , yflist_fine )\n",
    "        plt.xlabel ( 'x' )\n",
    "        plt.ylabel ( ' f ( x ) ' )\n",
    "        plt.title('Methode de Point Milieu, N = {}'.format(self.n))\n",
    "        plt.text( 0.5*( self.a+ self.b ) , f(self.b ) , 'I_{} ={:0.8f}'.format(self.n,self.integrate( f ) ) , fontsize =15 )"
   ]
  },
  {
   "cell_type": "markdown",
   "metadata": {},
   "source": [
    "### Simulation"
   ]
  },
  {
   "cell_type": "code",
   "execution_count": 206,
   "metadata": {},
   "outputs": [],
   "source": [
    "def simule(n,f,a,b):\n",
    "    \n",
    "    R=RectangleG(a,b,n,f)\n",
    "    T=Trapezoidal(a,b,n,f)\n",
    "    plt.subplot(221)\n",
    "    R.Graph(f)  \n",
    "    plt.subplot(222)    \n",
    "    T.Graph(f)\n",
    "    M=Pt_milieu(a,b,n,f)\n",
    "    plt.subplot(223)\n",
    "    M.Graph(f)\n",
    "\n",
    "    S=Simps(a,b,n,f) \n",
    "    plt.subplot(224)\n",
    "    S.Graph(f)\n",
    "    plt.show()"
   ]
  },
  {
   "cell_type": "markdown",
   "metadata": {},
   "source": [
    "### Les Figures "
   ]
  },
  {
   "cell_type": "code",
   "execution_count": 207,
   "metadata": {},
   "outputs": [],
   "source": [
    "output = widgets.Output()\n",
    "with output:\n",
    "    fig= plt.figure(figsize=(10,7))\n",
    "fig.canvas.toolbar_position = 'bottom'"
   ]
  },
  {
   "cell_type": "code",
   "execution_count": 208,
   "metadata": {},
   "outputs": [],
   "source": [
    "int_slider = widgets.IntSlider(value=2, min=1, max=50, step=1, description='Choisir N')\n",
    "select = widgets.Dropdown(options={'1/(1+x**2)':lambda x:1/(1+x**2),\n",
    "                                   'x**2-x+5':lambda x:x**2-x+5,\n",
    "                                   'x**2':lambda x:x**2,\n",
    "                                   'x**3':lambda x:x**3,\n",
    "                                   'tang(x)':lambda x:tan(x),\n",
    "                                   'arctang(x)':lambda x:arctan(x),\n",
    "                                    'sin(x)':lambda x: sin(x),\n",
    "                                    'cos(x)':lambda x:cos(x)},description='Choisir une fonction')      \n",
    "text_a = widgets.IntText(value=-1,description='Valeur de a', continuous_update=False)\n",
    "text_b = widgets.IntText(value=1,description='Valeur de b', continuous_update=False)\n",
    "button = widgets.Button(description=\"Afficher\")"
   ]
  },
  {
   "cell_type": "code",
   "execution_count": 209,
   "metadata": {},
   "outputs": [],
   "source": [
    "def on_button_clicked(b):\n",
    "    with output:\n",
    "        fig.clear()\n",
    "        simule(int_slider.value,select.value,text_a.value,text_b.value) "
   ]
  },
  {
   "cell_type": "markdown",
   "metadata": {},
   "source": [
    "<h2>Veuillez choisir:<h2/>\n",
    "<ul>\n",
    "<li>Une valeur de N</li>\n",
    "<li>Une Fonction</li>\n",
    "<li>Une valeur de a et b</li>\n",
    "<li>Appuier sur la button \"Afficher\"</li>\n",
    "</ul>\n",
    "<h2>Lors de changement d'un des paramaétres veuillez re-appuier sur le même button \" Afficher \"<h2/>"
   ]
  },
  {
   "cell_type": "code",
   "execution_count": 210,
   "metadata": {},
   "outputs": [
    {
     "data": {
      "application/vnd.jupyter.widget-view+json": {
       "model_id": "e0b84bab20b34889b7cb23054321ba07",
       "version_major": 2,
       "version_minor": 0
      },
      "text/plain": [
       "HBox(children=(VBox(children=(IntSlider(value=2, description='Choisir N', max=50, min=1), Dropdown(description…"
      ]
     },
     "metadata": {},
     "output_type": "display_data"
    }
   ],
   "source": [
    "vbox1 = widgets.VBox([int_slider,select,text_a,text_b,button])\n",
    "vbox2 = widgets.VBox([ output])\n",
    "\n",
    "box_layout = widgets.Layout(\n",
    "        border='solid 4px yellow',\n",
    "        margin='0px 10px 10px 0px',\n",
    "        padding='5px 5px 5px 5px')\n",
    "\n",
    "vbox1.layout = box_layout\n",
    "vbox2.layout = box_layout\n",
    "button.on_click(on_button_clicked)\n",
    "widgets.HBox([vbox1, vbox2])"
   ]
  }
 ],
 "metadata": {
  "kernelspec": {
   "display_name": "Python 3",
   "language": "python",
   "name": "python3"
  },
  "language_info": {
   "codemirror_mode": {
    "name": "ipython",
    "version": 3
   },
   "file_extension": ".py",
   "mimetype": "text/x-python",
   "name": "python",
   "nbconvert_exporter": "python",
   "pygments_lexer": "ipython3",
   "version": "3.8.3"
  }
 },
 "nbformat": 4,
 "nbformat_minor": 4
}
